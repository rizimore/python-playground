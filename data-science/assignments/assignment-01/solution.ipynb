{
 "cells": [
  {
   "cell_type": "markdown",
   "metadata": {},
   "source": [
    "Data Science\n",
    "===\n",
    "\n",
    "Assignment 01 - Best Player of FIFA\n",
    "---\n",
    "\n",
    "Mubashir Rasool Razvi <sp19-bse-006@cuilahore.edu.pk>\n",
    "\n",
    "SP19-BSE-006\n",
    "\n",
    "---\n",
    "\n",
    "Steps\n",
    "---\n",
    "\n",
    "In order to **complete this assignment** we need to follows following steps such as:\n",
    "\n",
    "1. Import [*FIFA 19*](https://www.kaggle.com/karangadiya/fifa19) dataset\n",
    "2. **Clean the data** by removing null values\n",
    "3. Get all best players where **overall > 88** and **potential > 90**\n",
    "4. **Plot the graph** on no. players and team positions along their counts\n",
    "5. **Find best player** for LW position\n",
    "6. **Best team** for the formation of (4-3-3)"
   ]
  },
  {
   "cell_type": "markdown",
   "metadata": {},
   "source": [
    "Step 01:\n",
    "---\n",
    "\n",
    "To import the data we will need two things one **pandas** library and **dataset** in csv format through kaggle.\n",
    "\n",
    "1. To install pandas simply need to run: `pip install pandas` or `conda install pandas`\n",
    "2. Download dataset here: https://www.kaggle.com/karangadiya/fifa19/download"
   ]
  },
  {
   "cell_type": "code",
   "execution_count": 27,
   "metadata": {},
   "outputs": [],
   "source": [
    "import pandas as pd"
   ]
  },
  {
   "cell_type": "code",
   "execution_count": 28,
   "metadata": {},
   "outputs": [],
   "source": [
    "df = pd.read_csv('data.csv').dropna;"
   ]
  },
  {
   "cell_type": "code",
   "execution_count": 29,
   "metadata": {},
   "outputs": [
    {
     "ename": "AttributeError",
     "evalue": "'function' object has no attribute 'head'",
     "output_type": "error",
     "traceback": [
      "\u001b[1;31m---------------------------------------------------------------------------\u001b[0m",
      "\u001b[1;31mAttributeError\u001b[0m                            Traceback (most recent call last)",
      "\u001b[1;32m<ipython-input-29-c42a15b2c7cf>\u001b[0m in \u001b[0;36m<module>\u001b[1;34m\u001b[0m\n\u001b[1;32m----> 1\u001b[1;33m \u001b[0mdf\u001b[0m\u001b[1;33m.\u001b[0m\u001b[0mhead\u001b[0m\u001b[1;33m(\u001b[0m\u001b[1;33m)\u001b[0m\u001b[1;33m\u001b[0m\u001b[1;33m\u001b[0m\u001b[0m\n\u001b[0m",
      "\u001b[1;31mAttributeError\u001b[0m: 'function' object has no attribute 'head'"
     ]
    }
   ],
   "source": [
    "df.head()"
   ]
  },
  {
   "cell_type": "markdown",
   "metadata": {},
   "source": [
    "Step 02:\n",
    "---\n",
    "\n",
    "For cleaning the data we need to perform some actions such as:\n",
    "\n",
    "1. **Drop the columns** to what we need (instead of 89 columns)\n",
    "2. **Check unique identifier**, no duplicate exist\n",
    "3. **Check null values** and fill with the **average of all other players** (or use AI which is out of the scope for now)"
   ]
  },
  {
   "cell_type": "code",
   "execution_count": null,
   "metadata": {},
   "outputs": [],
   "source": [
    "df = df[[\n",
    "    'ID',\n",
    "    'Name',\n",
    "    'Overall',\n",
    "    'Potential',\n",
    "    'Position',\n",
    "    'LW',\n",
    "    'Club'\n",
    "]]\n",
    "\n",
    "print(df.shape)\n",
    "df = df.dropna(axis='rows')\n",
    "print(df.shape)"
   ]
  },
  {
   "cell_type": "code",
   "execution_count": null,
   "metadata": {},
   "outputs": [],
   "source": [
    "df['ID'].is_unique"
   ]
  },
  {
   "cell_type": "markdown",
   "metadata": {},
   "source": [
    "Step 03:\n",
    "---\n",
    "\n",
    "Here is list of all the players name who have more then **>88 overall score** and **potential of 90+**"
   ]
  },
  {
   "cell_type": "code",
   "execution_count": null,
   "metadata": {},
   "outputs": [],
   "source": [
    "df.query('Overall > 88 & Potential > 90').sort_values('Overall', ascending=False).Name"
   ]
  },
  {
   "cell_type": "markdown",
   "metadata": {},
   "source": [
    "Step 04:\n",
    "---\n",
    "\n",
    "Here is data visulization for **count categorical plot**, with the helping of this chart we can easily see **which position is more popular** and in bonus task we can see on which position who is the best player."
   ]
  },
  {
   "cell_type": "code",
   "execution_count": null,
   "metadata": {},
   "outputs": [],
   "source": [
    "import seaborn as sns"
   ]
  },
  {
   "cell_type": "code",
   "execution_count": null,
   "metadata": {},
   "outputs": [],
   "source": [
    "%matplotlib inline"
   ]
  },
  {
   "cell_type": "code",
   "execution_count": null,
   "metadata": {},
   "outputs": [],
   "source": [
    "sns.set_theme(style=\"ticks\")"
   ]
  },
  {
   "cell_type": "code",
   "execution_count": null,
   "metadata": {},
   "outputs": [],
   "source": [
    "sns.catplot(y=\"Position\", kind='count', data=df)"
   ]
  },
  {
   "cell_type": "markdown",
   "metadata": {},
   "source": [
    "Step 05:\n",
    "---\n",
    "\n",
    "Here we find out who is the best player of **LW** position."
   ]
  },
  {
   "cell_type": "code",
   "execution_count": null,
   "metadata": {},
   "outputs": [],
   "source": [
    "lw_players = df.loc[df['Position'] == 'LW'].sort_values('Overall', ascending=False)"
   ]
  },
  {
   "cell_type": "code",
   "execution_count": null,
   "metadata": {},
   "outputs": [],
   "source": [
    "lw_players.reset_index()"
   ]
  },
  {
   "cell_type": "markdown",
   "metadata": {},
   "source": [
    "**Best Player:**"
   ]
  },
  {
   "cell_type": "code",
   "execution_count": null,
   "metadata": {},
   "outputs": [],
   "source": [
    "lw_players.iloc[0]"
   ]
  },
  {
   "cell_type": "markdown",
   "metadata": {},
   "source": [
    "**Worst Player:**"
   ]
  },
  {
   "cell_type": "code",
   "execution_count": null,
   "metadata": {},
   "outputs": [],
   "source": [
    "lw_players.iloc[-1]"
   ]
  },
  {
   "cell_type": "markdown",
   "metadata": {},
   "source": [
    "Step 06:\n",
    "===\n",
    "\n",
    "We need to find out best players for the following positions: **'LCM','RCM','CDM', 'LW', 'RW', 'ST', 'LCB', 'CB', 'CB', 'RCB'**\n",
    "\n",
    "So we can put all the positions into array and check one by one and at the end we will have best team."
   ]
  },
  {
   "cell_type": "code",
   "execution_count": null,
   "metadata": {},
   "outputs": [],
   "source": [
    "positions = ['LCM','RCM','CDM', 'LW', 'RW', 'ST', 'LCB', 'CB', 'CB', 'RCB']\n",
    "for position in positions:\n",
    "    best_player = df.loc[df['Position'] == position].sort_values('Overall', ascending=False).iloc[0].Name\n",
    "    \n",
    "    print(f\"{position}:\\t{best_player}\")"
   ]
  },
  {
   "cell_type": "markdown",
   "metadata": {},
   "source": [
    "Bonus Tasks:\n",
    "---\n",
    "\n",
    "Here is extra stuff for my own practice to get usefull informations such as:\n",
    "\n",
    "1. Get best player for all positions instead of just LW"
   ]
  },
  {
   "cell_type": "markdown",
   "metadata": {},
   "source": [
    "**Task 01:**"
   ]
  },
  {
   "cell_type": "code",
   "execution_count": null,
   "metadata": {},
   "outputs": [],
   "source": [
    "best_players = df.loc[df.groupby('Position')['Overall'].idxmax()]"
   ]
  },
  {
   "cell_type": "code",
   "execution_count": null,
   "metadata": {},
   "outputs": [],
   "source": [
    "best_players[['Position', 'Name', 'Overall']].reset_index()"
   ]
  }
 ],
 "metadata": {
  "kernelspec": {
   "display_name": "Python 3",
   "language": "python",
   "name": "python3"
  },
  "language_info": {
   "codemirror_mode": {
    "name": "ipython",
    "version": 3
   },
   "file_extension": ".py",
   "mimetype": "text/x-python",
   "name": "python",
   "nbconvert_exporter": "python",
   "pygments_lexer": "ipython3",
   "version": "3.8.5"
  }
 },
 "nbformat": 4,
 "nbformat_minor": 4
}
